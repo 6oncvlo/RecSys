{
 "cells": [
  {
   "cell_type": "code",
   "execution_count": null,
   "id": "b108dd21-bfa8-4d86-861d-615045abde9c",
   "metadata": {},
   "outputs": [],
   "source": [
    "import modules.m11_load_data, modules.m12_transform_data\n",
    "import pandas as pd\n",
    "import matplotlib.pyplot as plt\n",
    "import seaborn as sns\n",
    "import numpy as np"
   ]
  },
  {
   "cell_type": "markdown",
   "id": "b2406e7a-0f3d-4787-bb7d-f5e081a999f1",
   "metadata": {},
   "source": [
    "**Import Data**"
   ]
  },
  {
   "cell_type": "code",
   "execution_count": null,
   "id": "57f65a29-516a-49db-8e51-7bcd28357c3e",
   "metadata": {},
   "outputs": [],
   "source": [
    "df_users, df_movies, df_ratings = modules.m12_transform_data.transform_data(only_ratings_set=False)"
   ]
  },
  {
   "cell_type": "markdown",
   "id": "7d2a7234-0d3e-4c4c-a03e-98e1ad73cbb8",
   "metadata": {},
   "source": [
    "**Explore Customers data**"
   ]
  },
  {
   "cell_type": "code",
   "execution_count": null,
   "id": "a4cfcab5-0947-4333-b7d9-838d794ec9f0",
   "metadata": {},
   "outputs": [],
   "source": [
    "df_users.head()"
   ]
  },
  {
   "cell_type": "code",
   "execution_count": null,
   "id": "f183c50c-2205-44b0-9d0d-36596b26f4e2",
   "metadata": {},
   "outputs": [],
   "source": [
    "df_users.info()"
   ]
  },
  {
   "cell_type": "code",
   "execution_count": null,
   "id": "93532c9c-20d0-4a5f-ab66-0ea5af6e1ca2",
   "metadata": {},
   "outputs": [],
   "source": [
    "print(\n",
    "    'Num. of unique customers :' , df_users['userId'].nunique()\n",
    "    , '\\nUserId range             :', df_users['userId'].min(), '-', df_users['userId'].max()\n",
    ")\n",
    "\n",
    "# distribution of gender variable\n",
    "gender_distr = df_users.groupby(by = ['gender']).size().reset_index().rename(columns={0:'size'})\n",
    "gender_distr['share'] = (gender_distr['size']/gender_distr['size'].sum() ).round(2)\n",
    "print('\\nGender Distribution\\n', gender_distr.set_index('gender').sort_values(by=['share'], ascending=[False]) )\n",
    "\n",
    "# distribution of age variable\n",
    "age_distr = df_users.groupby(by = ['age']).size().reset_index().rename(columns={0:'size'})\n",
    "age_distr['share'] = (age_distr['size']/age_distr['size'].sum() ).round(2)\n",
    "print('\\nAge Distribution\\n',\n",
    "      age_distr[['age', 'size', 'share']]\\\n",
    "      .set_index('age').sort_values(by=['size'], ascending=[False])\n",
    "     )"
   ]
  },
  {
   "cell_type": "code",
   "execution_count": null,
   "id": "e05e20d5-a046-460d-a32e-5c9c948dcd82",
   "metadata": {},
   "outputs": [],
   "source": [
    "age_distr = age_distr[['age', 'size', 'share']].set_index('age').sort_values(by=['age'], ascending=[True]).reset_index()\n",
    "age_distr['age_bin'] = np.where( age_distr['age'] <= 18, 0,\n",
    "                               np.where(age_distr['age'] <= 29, 1,\n",
    "                                        np.where(age_distr['age'] <= 39, 2,\n",
    "                                                 np.where(age_distr['age'] <= 49, 3,\n",
    "                                                          np.where(age_distr['age'] <= 59, 4, 5)\n",
    "                                                         )\n",
    "                                                )\n",
    "                                       )\n",
    "                               )\n",
    "#sns.barplot(age_distr[['age', 'size', 'share']].set_index('age').sort_values(by=['age'], ascending=[True]).reset_index()\n",
    "#            , x=\"age\", y=\"share\")\n",
    "age_distr.groupby(by=['age_bin'])[['size', 'share']].sum()"
   ]
  },
  {
   "cell_type": "code",
   "execution_count": null,
   "id": "2e0f3846-1389-4585-842f-dfecdc9abe0f",
   "metadata": {},
   "outputs": [],
   "source": [
    "# distribution of job variable\n",
    "job_distr = df_users.groupby(by = ['job']).size().reset_index().rename(columns={0:'size'})\n",
    "job_distr['share'] = (job_distr['size']/job_distr['size'].sum() ).round(2)\n",
    "print('\\nJob Distribution\\n',\n",
    "      job_distr[['job', 'size', 'share']]\\\n",
    "      .set_index('job').sort_values(by=['size'], ascending=[False])\n",
    "     )"
   ]
  },
  {
   "cell_type": "code",
   "execution_count": null,
   "id": "b61a0526-a59e-4169-af58-501734b98406",
   "metadata": {},
   "outputs": [],
   "source": [
    "# distribution of zip code variable\n",
    "print( 'Num. of unique zip codes' , df_users['zip_code'].nunique() )\n",
    "\n",
    "zip_distr = df_users.groupby(by = ['zip_code']).size().reset_index().rename(columns={0:'size'})\n",
    "zip_distr['share'] = (zip_distr['size']/zip_distr['size'].sum() ).round(2)\n",
    "print('\\nZip Code Distribution\\n',\n",
    "      zip_distr.set_index('zip_code').sort_values(by=['size'], ascending=[False])\n",
    "      )"
   ]
  },
  {
   "cell_type": "markdown",
   "id": "809e37fc-6396-4ed1-966b-784373a7a8c1",
   "metadata": {},
   "source": [
    "**Explore Movies' data**"
   ]
  },
  {
   "cell_type": "code",
   "execution_count": null,
   "id": "d8335482-bd2b-40f2-ad3e-447301f064c9",
   "metadata": {},
   "outputs": [],
   "source": [
    "df_movies.head()"
   ]
  },
  {
   "cell_type": "code",
   "execution_count": null,
   "id": "58b7a18b-c235-4456-86b7-40b215bfe5ff",
   "metadata": {},
   "outputs": [],
   "source": [
    "df_movies.info()"
   ]
  },
  {
   "cell_type": "code",
   "execution_count": null,
   "id": "e9310aba-7e99-4938-97bb-ec6b755ca500",
   "metadata": {},
   "outputs": [],
   "source": [
    "(df_movies.iloc[:,4:].sum()/df_movies.shape[0]*100).reset_index().sort_values(by=0,ascending=False)"
   ]
  },
  {
   "cell_type": "code",
   "execution_count": null,
   "id": "ca394ac2-2117-414c-a962-e813ba3e760a",
   "metadata": {},
   "outputs": [],
   "source": [
    "print(\n",
    "    'Num. of unique movies :' , df_movies['itemId'].nunique()\n",
    "    , '\\nMovieId range         :', df_movies['itemId'].min(), '-', df_movies['itemId'].max()\n",
    ")"
   ]
  },
  {
   "cell_type": "markdown",
   "id": "db5a7e37-0260-40d4-898c-af2b6e4129e0",
   "metadata": {},
   "source": [
    "**Explore Ratings' data**"
   ]
  },
  {
   "cell_type": "code",
   "execution_count": null,
   "id": "4289e530-4543-42a5-ac5f-b25095f41afb",
   "metadata": {},
   "outputs": [],
   "source": [
    "df_ratings.head()"
   ]
  },
  {
   "cell_type": "code",
   "execution_count": null,
   "id": "2214bd37-17c6-4290-b76e-30f0dac8e759",
   "metadata": {},
   "outputs": [],
   "source": [
    "df_ratings.info()"
   ]
  },
  {
   "cell_type": "code",
   "execution_count": null,
   "id": "e7018eab-790f-44ae-b985-2e81ba1bb956",
   "metadata": {},
   "outputs": [],
   "source": [
    "\"\"\"\n",
    "Does it appear multiple ratings in a movie by the same user?\n",
    "    >> NO, it is only registered a single rating per movie for all the users\n",
    "    \n",
    "How many movies were rated by each user? (distribution incl. average, median, ...)\n",
    "How many users rated each of the movies? (distribution incl. average, median, ...)\n",
    "\n",
    "\"\"\""
   ]
  },
  {
   "cell_type": "code",
   "execution_count": null,
   "id": "f53a4ec4-9ffa-4168-90f4-d5241cb7d279",
   "metadata": {},
   "outputs": [],
   "source": [
    "# Checking whether or not there are records of multiples ratings for the same iteam for each of the users\n",
    "df_ratings[df_ratings[['userId', 'itemId']].duplicated()].shape[0]\n",
    "\n",
    "fig, ax =plt.subplots(1,2, figsize=(15,5))\n",
    "for col,i in zip(['itemId', 'userId'], [0,1]):\n",
    "\n",
    "    ax[i].set_title(f\"Distribution of {col} column\")\n",
    "    sns.histplot(\n",
    "        data=df_ratings.groupby(by=[col]).size().reset_index().rename(columns={0:'vol_ratings'})['vol_ratings']\n",
    "        , binwidth = 50, stat = 'count', kde = True, ax = ax[i]\n",
    "    )\n",
    "    ax[i].spines['top'].set_visible(False)\n",
    "    ax[i].spines['right'].set_visible(False)\n",
    "    \n",
    "    print( df_ratings.groupby(by=[col]).size().reset_index().rename(columns={0:'vol_ratings'})['vol_ratings'].describe().round() )"
   ]
  },
  {
   "cell_type": "code",
   "execution_count": null,
   "id": "00b5c318-edbc-4b87-8a6f-f1d54e6d1ed1",
   "metadata": {},
   "outputs": [],
   "source": [
    "fig, ax =plt.subplots(1,1, figsize=(15,10))\n",
    "for col,i in zip(['itemId'], [0]):\n",
    "\n",
    "    ax.set_title(f\"Distribution of {col} column\")\n",
    "    sns.histplot(\n",
    "        data=df_ratings.groupby(by=[col]).size().reset_index().rename(columns={0:'vol_ratings'})['vol_ratings']\n",
    "        , binwidth = 50, stat = 'percent', kde = True, ax = ax, color= \"#FA920C\"\n",
    "    )\n",
    "    ax.set_facecolor(\"#000E21\")\n",
    "    #plt.tick_params(top=False, bottom=False, left=False, right=False,\n",
    "    #            labelleft=False, labelbottom=False)\n"
   ]
  },
  {
   "cell_type": "code",
   "execution_count": null,
   "id": "4a9a1a31-e1b1-4192-a583-99b8cac29750",
   "metadata": {},
   "outputs": [],
   "source": [
    "df_ratings['date'].min(), df_ratings['date'].max()"
   ]
  },
  {
   "cell_type": "code",
   "execution_count": null,
   "id": "aa93e435-1adf-4dfa-b226-56c703d919dc",
   "metadata": {},
   "outputs": [],
   "source": [
    "df_ratings[df_ratings['date']>='19980222']"
   ]
  },
  {
   "cell_type": "code",
   "execution_count": null,
   "id": "3f75ad2d-54df-4780-8eed-e6ad1544b76c",
   "metadata": {},
   "outputs": [],
   "source": [
    "# bias towards high ratings\n",
    "aux = df_ratings.groupby('rating').size().reset_index().rename(columns={0:'size'})\n",
    "aux['share'] = (aux['size']/aux['size'].sum() *100).round(1)\n",
    "aux"
   ]
  },
  {
   "cell_type": "code",
   "execution_count": null,
   "id": "b5a9ebbb-9627-468f-8712-e3ee33aee7b9",
   "metadata": {},
   "outputs": [],
   "source": [
    "aux = df_ratings.groupby('date').size().reset_index().rename(columns={0:'vol_ratings'})\n",
    "\n",
    "# add date columns\n",
    "aux['date_d'] = pd.to_datetime(aux['date'], format='%Y%m%d')\n",
    "aux['yearweek'] = aux['date_d'].dt.strftime('%Y') + aux['date_d'].dt.isocalendar().week.astype(str).str.zfill(2)\n",
    "aux['yearweek'] = np.where(aux['yearweek'] == '199701', '199801', aux['yearweek'])\n",
    "\n",
    "display(aux.head())\n",
    "display(aux.groupby('yearweek')['vol_ratings'].sum().reset_index().head())\n",
    "\n",
    "aux_2 = aux.groupby('yearweek')['vol_ratings'].sum().reset_index()\n",
    "\n",
    "# Showing every 5th label\n",
    "tick_positions = aux_2['yearweek'][::5]  # Select every 5th week\n",
    "tick_labels = aux_2['yearweek'][::5]\n",
    "plt.figure(figsize=(10, 5))\n",
    "sns.lineplot(data=aux_2, x=\"yearweek\", y=\"vol_ratings\")\n",
    "plt.xticks(ticks=tick_positions, labels=tick_labels, rotation=45)\n",
    "plt.tight_layout()\n",
    "plt.show()"
   ]
  },
  {
   "cell_type": "code",
   "execution_count": null,
   "id": "209fe93d-e03d-4f7d-90af-8c32453bd729",
   "metadata": {},
   "outputs": [],
   "source": [
    "aux.sort_values('vol_ratings', ascending = False)"
   ]
  },
  {
   "cell_type": "code",
   "execution_count": null,
   "id": "ba64b735-1619-4630-b9c6-2a9ff49c4180",
   "metadata": {},
   "outputs": [],
   "source": [
    "# most popular movies\n",
    "display(\n",
    "    df_movies[df_movies['itemId'].isin(\n",
    "        df_ratings\\\n",
    "            .groupby('itemId').size().reset_index().rename(columns={0:'size'})\\\n",
    "            .sort_values(by='size', ascending = False).head(3)['itemId'].values\n",
    "    )]\n",
    ")\n",
    "\n",
    "# hotest movies\n",
    "aux = df_ratings\\\n",
    "    .groupby('itemId').agg({'rating' : ['mean', 'size']}).sort_values([('rating', 'mean')], ascending=False)\n",
    "display(\n",
    "    df_movies[df_movies['itemId'].isin(\n",
    "        aux[aux['rating']['size'] >= aux['rating']['size'].mean()].head(3).index\n",
    "    )]\n",
    ")"
   ]
  },
  {
   "cell_type": "code",
   "execution_count": null,
   "id": "2f517048-cfd0-4923-9c37-f44d50ff4e57",
   "metadata": {},
   "outputs": [],
   "source": [
    "df_ratings[df_ratings['itemId'].isin([168, 317, 407])]\\\n",
    "    .groupby('itemId').agg({'rating' : ['mean', 'size']}).sort_values([('rating', 'mean')], ascending=False)"
   ]
  },
  {
   "cell_type": "code",
   "execution_count": null,
   "id": "27c03699-2a30-4900-b054-da653d1df1e0",
   "metadata": {},
   "outputs": [],
   "source": [
    "aux = df_ratings.copy()\n",
    "aux['hour'] = df_ratings['time'].str.slice(start=0, stop=2)\n",
    "aux = aux.groupby('hour').size().reset_index().rename(columns={0:'size'} )\n",
    "aux['share'] = (aux['size']/aux['size'].sum()*100).round(2)\n",
    "aux.sort_values('size')"
   ]
  },
  {
   "cell_type": "code",
   "execution_count": null,
   "id": "279db98a-7148-47f5-8ce5-307067eeb9de",
   "metadata": {},
   "outputs": [],
   "source": [
    "# Convert hour '24' to '00' for correct ordering and plotting\n",
    "aux['hour'] = aux['hour'].replace('24', '00')\n",
    "\n",
    "# Sort DataFrame by 'hour' to ensure correct plotting order\n",
    "aux = aux.sort_values(by='hour')\n",
    "\n",
    "# Convert 'hour' back to '24' at display time in labels if needed\n",
    "aux['hour_label'] = aux['hour'].replace('00', '24')\n",
    "#display(aux)\n",
    "# Create the radar chart\n",
    "labels = aux['hour']\n",
    "stats = aux['share']\n",
    "angles = np.linspace(0, 2 * np.pi, len(labels), endpoint=False).tolist()\n",
    "\n",
    "# Complete the loop\n",
    "stats = np.concatenate((stats,[stats[0]]))\n",
    "angles += angles[:1]\n",
    "\n",
    "fig, ax = plt.subplots(figsize=(8, 8), subplot_kw=dict(polar=True))\n",
    "ax.fill(angles, stats, 'b', alpha=0.1)\n",
    "ax.plot(angles, stats, 'b', linewidth=2)  # Line plot\n",
    "ax.set_xticks(angles)\n",
    "#ax.set_xticklabels(labels)\n",
    "\n",
    "# Display settings\n",
    "ax.set_title('Hourly Share of Records', size=20, color='b', y=1.1)\n",
    "\n",
    "plt.show()"
   ]
  },
  {
   "cell_type": "code",
   "execution_count": null,
   "id": "bbd96326-b4d5-4112-a478-d290da727c70",
   "metadata": {},
   "outputs": [],
   "source": [
    "aux = df_ratings.merge(\n",
    "    df_movies[['itemId']+list(df_movies.columns[4:])]\n",
    "    , on = 'itemId', how='left'\n",
    ")\n",
    "genre_dict = []\n",
    "for col_genre in list(df_movies.columns[4:]):\n",
    "    genre_dict_i = {}\n",
    "    aux_i = aux[aux[col_genre]==1]\n",
    "    genre_dict_i['genre'] = col_genre\n",
    "    genre_dict_i['vol_ratings'] = aux_i.shape[0]\n",
    "    genre_dict_i['avg_rating'] = aux_i['rating'].mean().round(2)\n",
    "\n",
    "    for r in [1,2,3,4,5]:\n",
    "        genre_dict_i['vol_rat'+str(r)] = aux_i[aux_i['rating']==r].shape[0]\n",
    "        genre_dict_i['share_rat'+str(r)] = np.round(aux_i[aux_i['rating']==r].shape[0]/aux_i.shape[0]*100)\n",
    "    genre_dict.append(genre_dict_i)\n",
    "\n",
    "aux = pd.DataFrame(genre_dict)\n",
    "aux['share_ratings'] = (aux['vol_ratings']/df_ratings.shape[0]*100).round()\n",
    "aux.sort_values(by='vol_ratings', ascending=False)"
   ]
  },
  {
   "cell_type": "code",
   "execution_count": null,
   "id": "460f8e6f-94b7-4119-a0ad-569b4c4789df",
   "metadata": {},
   "outputs": [],
   "source": [
    "aux = df_ratings.copy()\n",
    "\n",
    "# add date columns\n",
    "aux['date_d'] = pd.to_datetime(aux['date'], format='%Y%m%d')\n",
    "aux['yearweek'] = aux['date_d'].dt.strftime('%Y') + aux['date_d'].dt.isocalendar().week.astype(str).str.zfill(2)\n",
    "aux['yearweek'] = np.where(aux['yearweek'] == '199701', '199801', aux['yearweek'])\n",
    "\n",
    "aux = aux.merge(\n",
    "    df_movies[['itemId']+list(df_movies.columns[4:])]\n",
    "    , on = 'itemId', how='left'\n",
    ")\n",
    "\n",
    "df_aux = []\n",
    "for col_genre in list(df_movies.columns[4:]):\n",
    "    \n",
    "    genre_dict_i = {}\n",
    "    aux_i = aux[aux[col_genre]==1]\n",
    "    \n",
    "    aux_is = aux_i.groupby('yearweek').agg({'rating': ['count', 'mean']}).round(2).droplevel(0, axis=1).reset_index()\\\n",
    "                .merge(\n",
    "                    aux_i.groupby(['yearweek', 'rating']).size().reset_index().rename(columns={0:'size'})\\\n",
    "                        .pivot(index='yearweek', columns='rating', values='size').fillna(0).reset_index()\n",
    "                    , on='yearweek', how = 'left'\n",
    "                    ).rename(columns = {1:'vol_r1', 2:'vol_r2', 3:'vol_r3', 4:'vol_r4', 5:'vol_r5'})\n",
    "    aux_is['genre'] = col_genre\n",
    "    aux_is = aux_is[ [aux_is.columns[-1]] + list(aux_is.columns[:-1])]\n",
    "    df_aux.append(aux_is)\n",
    "\n",
    "df_aux = pd.concat(df_aux)[['genre', 'yearweek', 'count', 'mean', 'vol_r1', 'vol_r2', 'vol_r3', 'vol_r4', 'vol_r5']].fillna(0)\n",
    "for col_r in ['vol_r1', 'vol_r2', 'vol_r3', 'vol_r4', 'vol_r5']:\n",
    "    df_aux['share_'+col_r[-2:]] = (df_aux[col_r]/df_aux['count']*100).round()\n",
    "\n",
    "# filter by most popular genres\n",
    "genres_list = ['Drama']\n",
    "# ['Sci-Fi', 'Adventure', 'Romance', 'Thriller', 'Action', 'Comedy', 'Drama']\n",
    "df_aux = df_aux[df_aux['genre'].isin(genres_list)]\n",
    "\n",
    "# cum sum\n",
    "df_aux['count_cumsum'] = df_aux.groupby('genre')['count'].cumsum()\n",
    "df_aux = df_aux.merge(\n",
    "    df_aux.groupby('genre')['count'].sum().reset_index().rename(columns={'count':'total_vol_rat'})\n",
    "    , how = 'left', on='genre')\n",
    "df_aux['count_cumper'] = (df_aux['count_cumsum']/df_aux['total_vol_rat']*100).round()\n",
    "df_aux.drop(columns=['total_vol_rat'], inplace=True)\n",
    "\n",
    "display(df_aux)\n",
    "\n",
    "# Showing every 5th label\n",
    "tick_positions = df_aux['yearweek'].unique()[::5]  # Select every 5th week\n",
    "tick_labels = df_aux['yearweek'].unique()[::5]\n",
    "plt.figure(figsize=(10, 5))\n",
    "sns.lineplot(data=df_aux, x=\"yearweek\", y=\"mean\")\n",
    "ax2 = plt.twinx()\n",
    "sns.lineplot(data=df_aux, x=\"yearweek\", y=\"share_r1\", ax = ax2, color='orange')\n",
    "plt.xticks(ticks=tick_positions, labels=tick_labels, rotation=45)\n",
    "plt.tight_layout()\n",
    "plt.show()"
   ]
  },
  {
   "cell_type": "code",
   "execution_count": null,
   "id": "57e7b251-6f04-4a9e-82cc-e5f4c8ba4d90",
   "metadata": {},
   "outputs": [],
   "source": [
    "df_aux.to_csv('test.csv')"
   ]
  },
  {
   "cell_type": "code",
   "execution_count": null,
   "id": "2179578b-23cc-4993-97ff-aae0d2179d74",
   "metadata": {},
   "outputs": [],
   "source": [
    "# general overview\n",
    "aux = df_ratings.groupby('userId').agg({'rating':['count', 'mean', 'std']}).round(2).droplevel(0, axis=1).reset_index()\n",
    "# rating overview\n",
    "aux2 = df_ratings.groupby(['userId', 'rating']).size().reset_index().rename(columns={0:'size'})\\\n",
    "        .pivot(index='userId', columns='rating', values='size').fillna(0).reset_index()\\\n",
    "        .rename(columns={1:'vol_r1', 2:'vol_r2', 3:'vol_r3', 4:'vol_r4', 5:'vol_r5'})\n",
    "\n",
    "# overview + rating overview\n",
    "aux = aux.merge(aux2, how='left', on='userId')\n",
    "del aux2\n",
    "for col_r in ['vol_r1', 'vol_r2', 'vol_r3', 'vol_r4', 'vol_r5']:\n",
    "    aux['share'+col_r[-3:]] = (aux[col_r]/aux['count']*100).round()\n",
    "\n",
    "# genre overview\n",
    "list_df_genre =[\n",
    "    df_ratings.merge( df_movies[['itemId']+list(df_movies.columns[4:])], on = 'itemId', how='left')\n",
    "]\n",
    "for col_genre in list(df_movies.columns[5:]):\n",
    "    aux2_i = list_df_genre[0][list_df_genre[0][col_genre]==1]\n",
    "    \n",
    "    aux2_i1 = aux2_i.groupby('userId').agg({'rating':['count', 'mean', 'std']}).round(2).droplevel(0, axis=1).reset_index().fillna(0)\n",
    "    aux2_i2 = aux2_i.groupby(['userId', 'rating']).size().reset_index().rename(columns={0:'size'})\\\n",
    "        .pivot(index='userId', columns='rating', values='size').fillna(0).reset_index()\\\n",
    "        .rename(columns={1:'vol_r1', 2:'vol_r2', 3:'vol_r3', 4:'vol_r4', 5:'vol_r5'})\n",
    "    aux2_i1 = aux2_i1.merge(aux2_i2, how='outer', on='userId')\n",
    "    del aux2_i2, aux2_i\n",
    "    for col_r in ['vol_r1', 'vol_r2', 'vol_r3', 'vol_r4', 'vol_r5']:\n",
    "        aux2_i1['share'+col_r[-3:]] = (aux2_i1[col_r]/aux2_i1['count']*100).round()\n",
    "\n",
    "    aux2_i1.columns = col_genre+'_'+aux2_i1.columns\n",
    "    aux2_i1.rename(columns={col_genre+'_'+'userId' :'userId'}, inplace=True)\n",
    "    list_df_genre.append(aux2_i1)\n",
    "\n",
    "    #display(aux2_i1)\n",
    "\n",
    "df_final = list_df_genre[1]\n",
    "for df in list_df_genre[2:]:\n",
    "    df_final = df_final.merge(df, how='outer', on = 'userId')\n",
    "\n",
    "aux = aux.merge(df_final.fillna(0), how='left', on='userId')"
   ]
  },
  {
   "cell_type": "code",
   "execution_count": null,
   "id": "d7d259b5-dada-44a9-ab14-8f3a1622755f",
   "metadata": {},
   "outputs": [],
   "source": [
    "aux[aux['share_r5']>=30]"
   ]
  },
  {
   "cell_type": "code",
   "execution_count": null,
   "id": "2f75ee81-248e-4a73-befa-9ae85ac4c495",
   "metadata": {},
   "outputs": [],
   "source": [
    "df_user_rating = (aux['share_r4']+aux['share_r5']\n",
    "                 ).reset_index().rename(columns={0:'share'})\n",
    "df_user_rating[df_user_rating['share']>=50]"
   ]
  },
  {
   "cell_type": "code",
   "execution_count": null,
   "id": "93915190-f682-4b9f-a86c-5046b56afc96",
   "metadata": {},
   "outputs": [],
   "source": [
    "df_ratings['rating'].mean()"
   ]
  }
 ],
 "metadata": {
  "kernelspec": {
   "display_name": "Python 3",
   "language": "python",
   "name": "python3"
  },
  "language_info": {
   "codemirror_mode": {
    "name": "ipython",
    "version": 3
   },
   "file_extension": ".py",
   "mimetype": "text/x-python",
   "name": "python",
   "nbconvert_exporter": "python",
   "pygments_lexer": "ipython3",
   "version": "3.10.13"
  }
 },
 "nbformat": 4,
 "nbformat_minor": 5
}
