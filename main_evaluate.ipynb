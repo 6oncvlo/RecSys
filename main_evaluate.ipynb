{
 "cells": [
  {
   "cell_type": "code",
   "execution_count": 1,
   "metadata": {},
   "outputs": [],
   "source": [
    "import modules.m12_transform_data, modules.m21_model_selection, modules.m22_grid_search\n",
    "from surprise import BaselineOnly, KNNBasic, KNNWithMeans, KNNWithZScore, KNNBaseline, SVD, NMF, CoClustering\n",
    "from surprise import accuracy"
   ]
  },
  {
   "cell_type": "code",
   "execution_count": 2,
   "metadata": {},
   "outputs": [],
   "source": [
    "# get ratings set\n",
    "df_ratings = modules.m12_transform_data.transform_data()\n",
    "# get data to the model\n",
    "data = modules.m21_model_selection.train_test_split(df_ratings=df_ratings)"
   ]
  },
  {
   "cell_type": "code",
   "execution_count": 3,
   "metadata": {},
   "outputs": [],
   "source": [
    "algo = SVD(\n",
    "    n_factors         = 300\n",
    "    , n_epochs        = 100\n",
    "    , biased          = True\n",
    "    , init_mean       = 0\n",
    "    , init_std_dev    = 0.1\n",
    "    , lr_bu           = 0.005\n",
    "    , lr_bi           = 0.005\n",
    "    , lr_pu           = 0.005\n",
    "    , lr_qi           = 0.005\n",
    "    , reg_bu          = 0.02\n",
    "    , reg_bi          = 0.02\n",
    "    , reg_pu          = 0.02\n",
    "    , reg_qi          = 0.02\n",
    "    , random_state    = 0\n",
    "    , verbose         = False\n",
    ")"
   ]
  },
  {
   "cell_type": "code",
   "execution_count": 6,
   "metadata": {},
   "outputs": [
    {
     "name": "stdout",
     "output_type": "stream",
     "text": [
      "RMSE test : 1.0262413113708335 \n",
      "RMSE train : 0.17951743176795984\n"
     ]
    }
   ],
   "source": [
    "algo.fit(data[\"train\"][\"model\"].build_full_trainset())\n",
    "\n",
    "rmse_test = accuracy.rmse(\n",
    "    algo.test( data[\"test\"][\"model\"] )\n",
    "    , verbose = False\n",
    "    )\n",
    "rmse_train = accuracy.rmse(\n",
    "    algo.test( [ data['train']['model'].df.iloc[i].to_list() for i in range(len(data['train']['model'].df)) ] )\n",
    "    , verbose = False\n",
    "    )\n",
    "\n",
    "print(f\"RMSE test : {rmse_test}\", f\"\\nRMSE train : {rmse_train}\")"
   ]
  },
  {
   "cell_type": "code",
   "execution_count": null,
   "metadata": {},
   "outputs": [],
   "source": [
    "# mlflow tracking\n",
    "# mlflow parameters\n",
    "# mlflow.set_tracking_uri(\"http://localhost:5000\")\n",
    "# mlflow.set_experiment(\"RecSys\")\n",
    "\n",
    "# with mlflow.start_run(run_name=algorithm_name):\n",
    "\n",
    "#    with mlflow.start_run(run_name=today_date, nested=True):\n",
    "#        mlflow.log_metric(\"foo\", 12)\n",
    "#        mlflow.log_artifact(\"run_summary\", \"run_summary_123\")"
   ]
  }
 ],
 "metadata": {
  "kernelspec": {
   "display_name": "Python 3",
   "language": "python",
   "name": "python3"
  },
  "language_info": {
   "codemirror_mode": {
    "name": "ipython",
    "version": 3
   },
   "file_extension": ".py",
   "mimetype": "text/x-python",
   "name": "python",
   "nbconvert_exporter": "python",
   "pygments_lexer": "ipython3",
   "version": "3.10.13"
  }
 },
 "nbformat": 4,
 "nbformat_minor": 2
}
