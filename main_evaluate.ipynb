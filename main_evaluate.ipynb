{
 "cells": [
  {
   "cell_type": "code",
   "execution_count": null,
   "metadata": {},
   "outputs": [],
   "source": [
    "import modules.m12_transform_data, modules.m21_model_selection, modules.m22_grid_search"
   ]
  },
  {
   "cell_type": "code",
   "execution_count": null,
   "metadata": {},
   "outputs": [],
   "source": [
    "# parameters\n",
    "algorithm_name = 'MF_SVD'\n",
    "params = { 'n_factors' : 350, 'n_epochs' : 480, 'biased' : True, 'init_mean' : 0, 'init_std_dev' : 0.1}"
   ]
  },
  {
   "cell_type": "code",
   "execution_count": null,
   "metadata": {},
   "outputs": [],
   "source": [
    "# get ratings set\n",
    "df_ratings = modules.m12_transform_data.transform_data()\n",
    "# get data to the model\n",
    "data = modules.m21_model_selection.train_test_split(df_ratings=df_ratings)"
   ]
  },
  {
   "cell_type": "code",
   "execution_count": null,
   "metadata": {},
   "outputs": [],
   "source": [
    "modules.m22_grid_search.predict(data, algorithm_name, params, False)"
   ]
  },
  {
   "cell_type": "code",
   "execution_count": null,
   "metadata": {},
   "outputs": [],
   "source": [
    "# mlflow tracking\n",
    "# mlflow parameters\n",
    "# mlflow.set_tracking_uri(\"http://localhost:5000\")\n",
    "# mlflow.set_experiment(\"RecSys\")\n",
    "\n",
    "# with mlflow.start_run(run_name=algorithm_name):\n",
    "\n",
    "#    with mlflow.start_run(run_name=today_date, nested=True):\n",
    "#        mlflow.log_metric(\"foo\", 12)\n",
    "#        mlflow.log_artifact(\"run_summary\", \"run_summary_123\")"
   ]
  }
 ],
 "metadata": {
  "kernelspec": {
   "display_name": "Python 3",
   "language": "python",
   "name": "python3"
  },
  "language_info": {
   "codemirror_mode": {
    "name": "ipython",
    "version": 3
   },
   "file_extension": ".py",
   "mimetype": "text/x-python",
   "name": "python",
   "nbconvert_exporter": "python",
   "pygments_lexer": "ipython3",
   "version": "3.10.13"
  }
 },
 "nbformat": 4,
 "nbformat_minor": 2
}
