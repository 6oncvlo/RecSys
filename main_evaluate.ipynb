{
 "cells": [
  {
   "cell_type": "code",
   "execution_count": 1,
   "metadata": {},
   "outputs": [],
   "source": [
    "import yaml\n",
    "from src.data.data_loader import load_data\n",
    "from src.data.prepare_data import prepare_data\n",
    "import pandas as pd\n",
    "import mlflow\n",
    "\n",
    "from surprise import SVD\n",
    "from src.models.models import model_testing"
   ]
  },
  {
   "cell_type": "code",
   "execution_count": 2,
   "metadata": {},
   "outputs": [],
   "source": [
    "# read config\n",
    "with open('main/config_evaluate.yml', 'r') as file:\n",
    "    config=yaml.load(file, Loader=yaml.SafeLoader)"
   ]
  },
  {
   "cell_type": "code",
   "execution_count": 3,
   "metadata": {},
   "outputs": [],
   "source": [
    "# load and prepare data\n",
    "dataframes=load_data(config=config['data_loader'])\n",
    "dataframes=prepare_data(dataframes=dataframes)\n",
    "\n",
    "\n",
    "# split into train and test sets\n",
    "dataframes['train_set']=dataframes['ratings'][dataframes['ratings']['date']<config['model']['test_date']]\n",
    "dataframes['test_set']=dataframes['ratings'][dataframes['ratings']['date']>=config['model']['test_date']]"
   ]
  },
  {
   "cell_type": "code",
   "execution_count": 4,
   "metadata": {},
   "outputs": [
    {
     "name": "stdout",
     "output_type": "stream",
     "text": [
      "RMSE: 1.0262\n"
     ]
    }
   ],
   "source": [
    "# mlflow tracking\n",
    "mlflow.set_tracking_uri(uri=config['tracking']['uri'])\n",
    "mlflow.set_experiment(experiment_name=config['tracking']['experiment_name'])\n",
    "mlflow.autolog(disable=True)\n",
    "\n",
    "with mlflow.start_run(run_name=config['tracking']['run_name']):\n",
    "    with mlflow.start_run(run_name=config['model']['algo_class'], nested=True):\n",
    "\n",
    "        mlflow.set_tag(key='algorithm', value=config['model']['algo_class'])\n",
    "        mlflow.log_params(params=config['model']['params'])\n",
    "        mlflow.log_dict(dictionary=config, artifact_file=\"config_evaluate.yml\")\n",
    "\n",
    "        model__testing=model_testing(\n",
    "            algo_class=config['model']['algo_class']\n",
    "            , params=config['model']['params']\n",
    "            , metrics=config['model']['metrics']\n",
    "            )\n",
    "        model__testing.fit(train_set=dataframes['train_set'])\n",
    "        model__testing.evaluate(test_set=dataframes['test_set'])\n",
    "# Compute and print Root Mean Squared Error\n",
    "#mlflow.log_metric(key='split'+str(i)+'_validation_rmse', value=accuracy.rmse(predictions, verbose=False))"
   ]
  },
  {
   "cell_type": "code",
   "execution_count": null,
   "metadata": {},
   "outputs": [],
   "source": [
    "from surprise import KNNWithMeans, SVD, NMF, CoClustering, accuracy\n",
    "from surprise import Dataset, Reader\n",
    "from src.data.data_loader import Dataset_custom\n",
    "\n",
    "reader = Reader(rating_scale=(1, 5))\n",
    "dataframes['train_set'] = Dataset.load_from_df(dataframes['train_set'][[\"userId\", \"itemId\", \"rating\"]], reader)\n",
    "dataframes['train_set']=dataframes['train_set'].build_full_trainset()\n",
    "\n",
    "dataframes['test_set'] = list(dataframes['test_set'][[\"userId\", \"itemId\", \"rating\"]].itertuples(index=False, name=None))\n",
    "\n",
    "svd = SVD()\n",
    "svd.fit(dataframes['train_set'])\n",
    "\n",
    "predictions = svd.test(dataframes['test_set'])\n",
    "rmse = accuracy.rmse(predictions)"
   ]
  }
 ],
 "metadata": {
  "kernelspec": {
   "display_name": "Python 3",
   "language": "python",
   "name": "python3"
  },
  "language_info": {
   "codemirror_mode": {
    "name": "ipython",
    "version": 3
   },
   "file_extension": ".py",
   "mimetype": "text/x-python",
   "name": "python",
   "nbconvert_exporter": "python",
   "pygments_lexer": "ipython3",
   "version": "3.10.13"
  }
 },
 "nbformat": 4,
 "nbformat_minor": 2
}
