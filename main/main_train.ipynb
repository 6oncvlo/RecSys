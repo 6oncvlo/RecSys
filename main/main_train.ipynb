{
 "cells": [
  {
   "cell_type": "code",
   "execution_count": 1,
   "id": "366c307a-7058-45d5-8e56-81ede1a5e629",
   "metadata": {
    "editable": true,
    "slideshow": {
     "slide_type": ""
    },
    "tags": []
   },
   "outputs": [],
   "source": [
    "import sys\n",
    "import os\n",
    "\n",
    "# Add the root of the project (RecSys) to the Python path\n",
    "sys.path.append(os.path.abspath('..'))\n",
    "\n",
    "\n",
    "import numpy\n",
    "import yaml\n",
    "from src.data.data_loader import load_data\n",
    "from src.data.prepare_data import prepare_data\n",
    "import pandas as pd\n",
    "from src.models.model import grid_search\n",
    "import mlflow\n",
    "\n",
    "# start mlflow ui\n",
    "#import subprocess, time\n",
    "#ui_process = subprocess.Popen([\"python\", \"-m\", \"mlflow\", \"ui\"])\n",
    "#time.sleep(5)\n",
    "#ui_process.terminate()"
   ]
  },
  {
   "cell_type": "code",
   "execution_count": null,
   "id": "2efb6d9d",
   "metadata": {},
   "outputs": [],
   "source": [
    "# read config\n",
    "with open('main/config_train.yml', 'r') as file:\n",
    "    config=yaml.load(file, Loader=yaml.SafeLoader)"
   ]
  },
  {
   "cell_type": "code",
   "execution_count": null,
   "id": "4da95871",
   "metadata": {},
   "outputs": [],
   "source": [
    "# load and prepare data\n",
    "dataframes=load_data(config=config['data_loader'])\n",
    "dataframes=prepare_data(dataframes=dataframes)\n",
    "\n",
    "# filter out test set based on test date\n",
    "dataframes['train_set']=dataframes['ratings'][dataframes['ratings']['date']<config['model']['test_date']]"
   ]
  },
  {
   "cell_type": "code",
   "execution_count": null,
   "id": "d3635c07",
   "metadata": {},
   "outputs": [],
   "source": [
    "# mlflow tracking\n",
    "mlflow.set_tracking_uri(uri=config['tracking']['uri'])\n",
    "mlflow.set_experiment(experiment_name=config['tracking']['experiment_name'])\n",
    "mlflow.autolog(disable=True)\n",
    "\n",
    "with mlflow.start_run(run_name=config['tracking']['run_name']):\n",
    "    mlflow.log_dict(dictionary=config, artifact_file=\"config_evaluate.yml\")\n",
    "    for algo in config['model']['algo_class']:\n",
    "        with mlflow.start_run(run_name=algo, nested=True):\n",
    "\n",
    "            # perform grid search\n",
    "            gsearch = grid_search(\n",
    "            algo_class=algo\n",
    "            , measures=config['cross_validation']['metrics']\n",
    "            , cv=config['cross_validation']['iterator']\n",
    "            , return_train_measures=True\n",
    "            )\n",
    "            cv_results=gsearch.fit(train_set=dataframes['train_set'])\n",
    "\n",
    "            # log tested algorithm, best metric, params and model\n",
    "            mlflow.set_tag(key='algorithm', value=algo)\n",
    "            mlflow.log_metric(key=gsearch.measures[0], value=gsearch.best_score)\n",
    "            mlflow.log_params(params=gsearch.best_params)\n",
    "            mlflow.sklearn.log_model(sk_model=gsearch.best_estimator, artifact_path=algo+'_model')\n",
    "            mlflow.log_input(mlflow.data.from_pandas(cv_results, name=\"GS_\"+algo), context=\"Grid Search on \"+algo)"
   ]
  }
 ],
 "metadata": {
  "kernelspec": {
   "display_name": ".venv",
   "language": "python",
   "name": "python3"
  },
  "language_info": {
   "codemirror_mode": {
    "name": "ipython",
    "version": 3
   },
   "file_extension": ".py",
   "mimetype": "text/x-python",
   "name": "python",
   "nbconvert_exporter": "python",
   "pygments_lexer": "ipython3",
   "version": "3.11.9"
  }
 },
 "nbformat": 4,
 "nbformat_minor": 5
}
