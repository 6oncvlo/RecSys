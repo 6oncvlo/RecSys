{
 "cells": [
  {
   "cell_type": "code",
   "execution_count": null,
   "id": "366c307a-7058-45d5-8e56-81ede1a5e629",
   "metadata": {
    "editable": true,
    "slideshow": {
     "slide_type": ""
    },
    "tags": []
   },
   "outputs": [],
   "source": [
    "# !pip install -r requirements.txt\n",
    "\n",
    "import modules.m12_transform_data, modules.m22_grid_search\n",
    "import pandas as pd\n",
    "import mlflow\n",
    "import datetime"
   ]
  },
  {
   "cell_type": "code",
   "execution_count": null,
   "id": "54f5a512-edad-4b76-8f04-850ee8eac2a0",
   "metadata": {},
   "outputs": [],
   "source": [
    "# parameters\n",
    "algorithm_name = 'MF_SVD'\n",
    "cv_iterator = 'hold_out'\n",
    "measures = ['mae', 'rmse', 'mse', 'fcp']\n",
    "today_date = datetime.date.today().strftime(\"%Y%m%d\")"
   ]
  },
  {
   "cell_type": "code",
   "execution_count": null,
   "id": "d603e329-bd7a-480a-abee-396405c10b87",
   "metadata": {},
   "outputs": [],
   "source": [
    "# get users, movies and ratings sets\n",
    "df_ratings = modules.m12_transform_data.transform_data()"
   ]
  },
  {
   "cell_type": "code",
   "execution_count": null,
   "id": "6f72d7f4-6688-409d-8120-8e04ecc7c861",
   "metadata": {},
   "outputs": [],
   "source": [
    "# grid search\n",
    "run_summary = modules.m22_grid_search.grid_search(\n",
    "    df_ratings = df_ratings\n",
    "    , algorithm_name = algorithm_name\n",
    "    , cv_iterator = cv_iterator\n",
    "    , measures = measures\n",
    ")\n",
    "\n",
    "run_summary.head()"
   ]
  },
  {
   "cell_type": "code",
   "execution_count": null,
   "id": "5074ce13",
   "metadata": {},
   "outputs": [],
   "source": [
    "for me in measures:\n",
    "    run_summary = run_summary.merge(\n",
    "        pd.concat([\n",
    "            run_summary[ [col for col in run_summary.columns if col.endswith('test_'+me)] ].mean(axis=1)\n",
    "            , run_summary[ [col for col in run_summary.columns if col.endswith('train_'+me)] ].mean(axis=1)\n",
    "            ], axis=1).rename(columns={0:'test_avg_'+me, 1:'train_avg_'+me})\n",
    "        , how = 'left', left_index = True, right_index=True\n",
    "        )\n",
    "    \n",
    "run_summary"
   ]
  },
  {
   "cell_type": "code",
   "execution_count": null,
   "id": "252d48cc",
   "metadata": {},
   "outputs": [],
   "source": [
    "del df_ratings, me, measures, today_date"
   ]
  }
 ],
 "metadata": {
  "kernelspec": {
   "display_name": "Python 3",
   "language": "python",
   "name": "python3"
  },
  "language_info": {
   "codemirror_mode": {
    "name": "ipython",
    "version": 3
   },
   "file_extension": ".py",
   "mimetype": "text/x-python",
   "name": "python",
   "nbconvert_exporter": "python",
   "pygments_lexer": "ipython3",
   "version": "3.10.13"
  }
 },
 "nbformat": 4,
 "nbformat_minor": 5
}
