{
 "cells": [
  {
   "cell_type": "code",
   "execution_count": 1,
   "metadata": {},
   "outputs": [],
   "source": [
    "import sys\n",
    "import os\n",
    "# add the root of the project (RecSys) to the Python path\n",
    "sys.path.append(os.path.abspath('..'))\n",
    "\n",
    "import yaml\n",
    "from src.data.data_loader import load_data\n",
    "from src.data.prepare_data import prepare_data\n",
    "import pandas as pd\n",
    "import mlflow\n",
    "from src.models.model import modeling"
   ]
  },
  {
   "cell_type": "code",
   "execution_count": 3,
   "metadata": {},
   "outputs": [],
   "source": [
    "# read config\n",
    "with open('../config/config_inference.yml', 'r') as file:\n",
    "    config=yaml.load(file, Loader=yaml.SafeLoader)"
   ]
  },
  {
   "cell_type": "code",
   "execution_count": 4,
   "metadata": {},
   "outputs": [],
   "source": [
    "# load and prepare data\n",
    "dataframes = load_data(config=config['data_loader'])\n",
    "dataframes = prepare_data(dataframes=dataframes)"
   ]
  },
  {
   "cell_type": "code",
   "execution_count": 5,
   "metadata": {},
   "outputs": [
    {
     "name": "stderr",
     "output_type": "stream",
     "text": [
      "2024/11/05 19:04:33 WARNING mlflow.models.model: Model logged without a signature and input example. Please set `input_example` parameter when logging the model to auto infer the model signature.\n"
     ]
    }
   ],
   "source": [
    "# mlflow tracking\n",
    "mlflow.set_experiment(experiment_name=config['tracking']['experiment_name'])\n",
    "mlflow.autolog(disable=True)\n",
    "\n",
    "with mlflow.start_run(run_name=config['tracking']['run_name']):\n",
    "    with mlflow.start_run(run_name=config['model']['algo_class'], nested=True):\n",
    "        # log multiple inputs\n",
    "        mlflow.set_tag(key='algorithm', value=config['model']['algo_class'])\n",
    "        mlflow.log_params(params=config['model']['params'])\n",
    "        mlflow.log_dict(dictionary=config, artifact_file=\"config_inference.yml\")\n",
    "\n",
    "        # test best algortihm\n",
    "        model_evaluation=modeling(\n",
    "            algo_class=config['model']['algo_class']\n",
    "            , params=config['model']['params']\n",
    "            )\n",
    "        model_evaluation.fit(train_set=dataframes['ratings'])\n",
    "        pred=model_evaluation.inference()\n",
    "        \n",
    "        # log model\n",
    "        mlflow.sklearn.log_model(sk_model=model_evaluation.algo_class, artifact_path=config['model']['algo_class']+'_model')"
   ]
  }
 ],
 "metadata": {
  "kernelspec": {
   "display_name": ".venv",
   "language": "python",
   "name": "python3"
  },
  "language_info": {
   "codemirror_mode": {
    "name": "ipython",
    "version": 3
   },
   "file_extension": ".py",
   "mimetype": "text/x-python",
   "name": "python",
   "nbconvert_exporter": "python",
   "pygments_lexer": "ipython3",
   "version": "3.11.9"
  }
 },
 "nbformat": 4,
 "nbformat_minor": 2
}
