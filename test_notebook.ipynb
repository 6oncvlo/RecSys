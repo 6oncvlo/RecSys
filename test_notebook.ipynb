{
 "cells": [
  {
   "cell_type": "code",
   "execution_count": 2,
   "id": "8d0c9a00-87af-4c45-a373-493a7973f192",
   "metadata": {},
   "outputs": [],
   "source": [
    "import m12_transform_data, m21_train_test_split, m11_load_data"
   ]
  },
  {
   "cell_type": "code",
   "execution_count": 3,
   "id": "9357eeaf-49d5-4e4f-9967-5cfcbb9d8c55",
   "metadata": {},
   "outputs": [],
   "source": [
    "a, b, c = m12_transform_data.transform_data()"
   ]
  },
  {
   "cell_type": "code",
   "execution_count": 6,
   "id": "d7841495-8d13-4c76-908b-92aa79ed70aa",
   "metadata": {},
   "outputs": [
    {
     "data": {
      "text/html": [
       "<div>\n",
       "<style scoped>\n",
       "    .dataframe tbody tr th:only-of-type {\n",
       "        vertical-align: middle;\n",
       "    }\n",
       "\n",
       "    .dataframe tbody tr th {\n",
       "        vertical-align: top;\n",
       "    }\n",
       "\n",
       "    .dataframe thead th {\n",
       "        text-align: right;\n",
       "    }\n",
       "</style>\n",
       "<table border=\"1\" class=\"dataframe\">\n",
       "  <thead>\n",
       "    <tr style=\"text-align: right;\">\n",
       "      <th></th>\n",
       "      <th>userId</th>\n",
       "      <th>itemId</th>\n",
       "      <th>rating</th>\n",
       "      <th>timestamp</th>\n",
       "      <th>date</th>\n",
       "      <th>time</th>\n",
       "    </tr>\n",
       "  </thead>\n",
       "  <tbody>\n",
       "    <tr>\n",
       "      <th>0</th>\n",
       "      <td>195</td>\n",
       "      <td>241</td>\n",
       "      <td>3</td>\n",
       "      <td>881250949</td>\n",
       "      <td>19971204</td>\n",
       "      <td>155549</td>\n",
       "    </tr>\n",
       "    <tr>\n",
       "      <th>1</th>\n",
       "      <td>185</td>\n",
       "      <td>301</td>\n",
       "      <td>3</td>\n",
       "      <td>891717742</td>\n",
       "      <td>19980404</td>\n",
       "      <td>192222</td>\n",
       "    </tr>\n",
       "    <tr>\n",
       "      <th>2</th>\n",
       "      <td>21</td>\n",
       "      <td>376</td>\n",
       "      <td>1</td>\n",
       "      <td>878887116</td>\n",
       "      <td>19971107</td>\n",
       "      <td>071836</td>\n",
       "    </tr>\n",
       "    <tr>\n",
       "      <th>3</th>\n",
       "      <td>243</td>\n",
       "      <td>50</td>\n",
       "      <td>2</td>\n",
       "      <td>880606923</td>\n",
       "      <td>19971127</td>\n",
       "      <td>050203</td>\n",
       "    </tr>\n",
       "    <tr>\n",
       "      <th>4</th>\n",
       "      <td>165</td>\n",
       "      <td>345</td>\n",
       "      <td>1</td>\n",
       "      <td>886397596</td>\n",
       "      <td>19980202</td>\n",
       "      <td>053316</td>\n",
       "    </tr>\n",
       "    <tr>\n",
       "      <th>...</th>\n",
       "      <td>...</td>\n",
       "      <td>...</td>\n",
       "      <td>...</td>\n",
       "      <td>...</td>\n",
       "      <td>...</td>\n",
       "      <td>...</td>\n",
       "    </tr>\n",
       "    <tr>\n",
       "      <th>99995</th>\n",
       "      <td>879</td>\n",
       "      <td>475</td>\n",
       "      <td>3</td>\n",
       "      <td>880175444</td>\n",
       "      <td>19971122</td>\n",
       "      <td>051044</td>\n",
       "    </tr>\n",
       "    <tr>\n",
       "      <th>99996</th>\n",
       "      <td>715</td>\n",
       "      <td>203</td>\n",
       "      <td>5</td>\n",
       "      <td>879795543</td>\n",
       "      <td>19971117</td>\n",
       "      <td>193903</td>\n",
       "    </tr>\n",
       "    <tr>\n",
       "      <th>99997</th>\n",
       "      <td>275</td>\n",
       "      <td>1089</td>\n",
       "      <td>1</td>\n",
       "      <td>874795795</td>\n",
       "      <td>19970920</td>\n",
       "      <td>224955</td>\n",
       "    </tr>\n",
       "    <tr>\n",
       "      <th>99998</th>\n",
       "      <td>12</td>\n",
       "      <td>224</td>\n",
       "      <td>2</td>\n",
       "      <td>882399156</td>\n",
       "      <td>19971217</td>\n",
       "      <td>225236</td>\n",
       "    </tr>\n",
       "    <tr>\n",
       "      <th>99999</th>\n",
       "      <td>11</td>\n",
       "      <td>202</td>\n",
       "      <td>3</td>\n",
       "      <td>879959583</td>\n",
       "      <td>19971119</td>\n",
       "      <td>171303</td>\n",
       "    </tr>\n",
       "  </tbody>\n",
       "</table>\n",
       "<p>100000 rows × 6 columns</p>\n",
       "</div>"
      ],
      "text/plain": [
       "       userId  itemId  rating  timestamp      date    time\n",
       "0         195     241       3  881250949  19971204  155549\n",
       "1         185     301       3  891717742  19980404  192222\n",
       "2          21     376       1  878887116  19971107  071836\n",
       "3         243      50       2  880606923  19971127  050203\n",
       "4         165     345       1  886397596  19980202  053316\n",
       "...       ...     ...     ...        ...       ...     ...\n",
       "99995     879     475       3  880175444  19971122  051044\n",
       "99996     715     203       5  879795543  19971117  193903\n",
       "99997     275    1089       1  874795795  19970920  224955\n",
       "99998      12     224       2  882399156  19971217  225236\n",
       "99999      11     202       3  879959583  19971119  171303\n",
       "\n",
       "[100000 rows x 6 columns]"
      ]
     },
     "execution_count": 6,
     "metadata": {},
     "output_type": "execute_result"
    }
   ],
   "source": [
    "c"
   ]
  },
  {
   "cell_type": "code",
   "execution_count": 8,
   "id": "765153f0-44a3-479b-842d-f48cec109602",
   "metadata": {},
   "outputs": [
    {
     "ename": "ValueError",
     "evalue": "too many values to unpack (expected 3)",
     "output_type": "error",
     "traceback": [
      "\u001b[0;31m---------------------------------------------------------------------------\u001b[0m",
      "\u001b[0;31mValueError\u001b[0m                                Traceback (most recent call last)",
      "Cell \u001b[0;32mIn[8], line 1\u001b[0m\n\u001b[0;32m----> 1\u001b[0m train, valid, test \u001b[38;5;241m=\u001b[39m m21_train_test_split\u001b[38;5;241m.\u001b[39mtrain_test_split(c, hold_out \u001b[38;5;241m=\u001b[39m \u001b[38;5;28;01mTrue\u001b[39;00m)\n",
      "\u001b[0;31mValueError\u001b[0m: too many values to unpack (expected 3)"
     ]
    }
   ],
   "source": [
    "train, valid, test = m21_train_test_split.train_test_split(c, hold_out = True)"
   ]
  },
  {
   "cell_type": "code",
   "execution_count": null,
   "id": "18b6279c-a067-40e4-9122-5223838cc5e4",
   "metadata": {},
   "outputs": [],
   "source": [
    "x.shape[0]+ y.shape[0] + z.shape[0] == c.shape[0], x['date'].min(), x['date'].max(), y['date'].min(), y['date'].max(), z['date'].min(), z['date'].max()"
   ]
  },
  {
   "cell_type": "code",
   "execution_count": null,
   "id": "72db5fe0-7999-48b2-9b8a-e3d24347a6af",
   "metadata": {},
   "outputs": [],
   "source": [
    "# !pip install surprise\n",
    "from surprise import Dataset, Reader, SVD, accuracy\n",
    "\n",
    "# A reader is still needed but only the rating_scale param is requiered.\n",
    "reader = Reader(rating_scale=(1, 5))\n",
    "\n",
    "# The columns must correspond to user id, item id and ratings (in that order).\n",
    "train_m = Dataset.load_from_df(train[[\"userId\", \"itemId\", \"rating\"]], reader)\n",
    "train_m = train_m.build_full_trainset()\n",
    "valid_m = Dataset.load_from_df(valid[[\"userId\", \"itemId\", \"rating\"]], reader)"
   ]
  },
  {
   "cell_type": "code",
   "execution_count": null,
   "id": "4a7ada78-c8ed-4895-84fc-0a9332c1993c",
   "metadata": {},
   "outputs": [],
   "source": [
    "params_svd = m21_train_test_split.params_grid(algorithm = 'MF_SVD')"
   ]
  },
  {
   "cell_type": "code",
   "execution_count": null,
   "id": "f0cf498c-cf71-48c3-bc5a-fe2c88d153a3",
   "metadata": {},
   "outputs": [],
   "source": [
    "algo = SVD(**params_svd[0])"
   ]
  },
  {
   "cell_type": "code",
   "execution_count": null,
   "id": "45fa53bd-4922-46dd-882d-b11ee042f45f",
   "metadata": {},
   "outputs": [],
   "source": [
    "algo"
   ]
  },
  {
   "cell_type": "code",
   "execution_count": null,
   "id": "e03b877a-64ce-4b62-add3-28aa96a48880",
   "metadata": {},
   "outputs": [],
   "source": [
    "algo.fit(train_m)"
   ]
  },
  {
   "cell_type": "code",
   "execution_count": null,
   "id": "30cfc8e7-7ecd-4d39-87c0-bc83fec7c430",
   "metadata": {},
   "outputs": [],
   "source": [
    "valid_m = [valid_m.df.iloc[i].to_list() for i in range(len(valid_m.df))]\n",
    "predictions = algo.test(valid_m)"
   ]
  },
  {
   "cell_type": "code",
   "execution_count": null,
   "id": "de2145bc-6214-454c-a218-6fed7a6ec881",
   "metadata": {},
   "outputs": [],
   "source": [
    "accuracy.mae(predictions), accuracy.fcp(predictions), accuracy.rmse(predictions), accuracy.mse(predictions)"
   ]
  },
  {
   "cell_type": "code",
   "execution_count": null,
   "id": "18eb4437-8be4-4e98-b41c-2ac59fcea06d",
   "metadata": {},
   "outputs": [],
   "source": [
    "# DONT DELETE!!!!\n",
    "\n",
    "# GOAL : get original data from KFold\n",
    "kf = KFold(n_splits=3)\n",
    "\n",
    "for trainset, testset in kf.split(df_ratings_test):\n",
    "    \n",
    "    trainset_list = []\n",
    "    for uid, user_ratings in trainset.ur.items():\n",
    "        for iid, rating in user_ratings:\n",
    "            trainset_list.append((trainset.to_raw_uid(uid), trainset.to_raw_iid(iid), rating))\n",
    "    \n",
    "    # Convert list of tuples into DataFrame\n",
    "    trainset_df = pd.DataFrame(trainset_list, columns=['userID', 'itemID', 'rating'])\n",
    "\n",
    "    print(trainset_df['userID'].nunique())"
   ]
  }
 ],
 "metadata": {
  "kernelspec": {
   "display_name": "anaconda-panel-2023.05-py310",
   "language": "python",
   "name": "conda-env-anaconda-panel-2023.05-py310-py"
  },
  "language_info": {
   "codemirror_mode": {
    "name": "ipython",
    "version": 3
   },
   "file_extension": ".py",
   "mimetype": "text/x-python",
   "name": "python",
   "nbconvert_exporter": "python",
   "pygments_lexer": "ipython3",
   "version": "3.11.5"
  }
 },
 "nbformat": 4,
 "nbformat_minor": 5
}
