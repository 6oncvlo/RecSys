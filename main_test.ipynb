{
 "cells": [
  {
   "cell_type": "code",
   "execution_count": null,
   "metadata": {},
   "outputs": [],
   "source": [
    "# mlflow tracking\n",
    "# mlflow parameters\n",
    "# mlflow.set_tracking_uri(\"http://localhost:5000\")\n",
    "# mlflow.set_experiment(\"RecSys\")\n",
    "\n",
    "# with mlflow.start_run(run_name=algorithm_name):\n",
    "\n",
    "#    with mlflow.start_run(run_name=today_date, nested=True):\n",
    "#        mlflow.log_metric(\"foo\", 12)\n",
    "#        mlflow.log_artifact(\"run_summary\", \"run_summary_123\")"
   ]
  }
 ],
 "metadata": {
  "language_info": {
   "name": "python"
  }
 },
 "nbformat": 4,
 "nbformat_minor": 2
}
