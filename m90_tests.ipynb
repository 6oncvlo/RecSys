{
 "cells": [
  {
   "cell_type": "code",
   "execution_count": 2,
   "id": "8d0c9a00-87af-4c45-a373-493a7973f192",
   "metadata": {},
   "outputs": [],
   "source": [
    "import m12_transform_data, m21_train_test_split, m11_load_data"
   ]
  },
  {
   "cell_type": "code",
   "execution_count": 3,
   "id": "9357eeaf-49d5-4e4f-9967-5cfcbb9d8c55",
   "metadata": {},
   "outputs": [],
   "source": [
    "a, b, c = m12_transform_data.transform_data()"
   ]
  },
  {
   "cell_type": "code",
   "execution_count": null,
   "id": "72db5fe0-7999-48b2-9b8a-e3d24347a6af",
   "metadata": {},
   "outputs": [],
   "source": [
    "# !pip install surprise\n",
    "from surprise import Dataset, Reader, SVD, accuracy\n",
    "\n",
    "# A reader is still needed but only the rating_scale param is requiered.\n",
    "reader = Reader(rating_scale=(1, 5))\n",
    "\n",
    "# The columns must correspond to user id, item id and ratings (in that order).\n",
    "train_m = Dataset.load_from_df(train[[\"userId\", \"itemId\", \"rating\"]], reader)\n",
    "train_m = train_m.build_full_trainset()\n",
    "valid_m = Dataset.load_from_df(valid[[\"userId\", \"itemId\", \"rating\"]], reader)"
   ]
  },
  {
   "cell_type": "code",
   "execution_count": null,
   "id": "18eb4437-8be4-4e98-b41c-2ac59fcea06d",
   "metadata": {},
   "outputs": [],
   "source": [
    "# DONT DELETE!!!!\n",
    "\n",
    "# GOAL : get original data from KFold\n",
    "kf = KFold(n_splits=3)\n",
    "\n",
    "for trainset, testset in kf.split(df_ratings_test):\n",
    "    \n",
    "    trainset_list = []\n",
    "    for uid, user_ratings in trainset.ur.items():\n",
    "        for iid, rating in user_ratings:\n",
    "            trainset_list.append((trainset.to_raw_uid(uid), trainset.to_raw_iid(iid), rating))\n",
    "    \n",
    "    # Convert list of tuples into DataFrame\n",
    "    trainset_df = pd.DataFrame(trainset_list, columns=['userID', 'itemID', 'rating'])\n",
    "\n",
    "    print(trainset_df['userID'].nunique())"
   ]
  },
  {
   "cell_type": "code",
   "execution_count": null,
   "id": "24dfcd6c",
   "metadata": {},
   "outputs": [],
   "source": [
    "def model_selection(df_ratings : pd.DataFrame, hold_out : bool = False, kfold : bool = False, rep_kfold : bool = False, ts_split : bool = False):\n",
    "    \"\"\"\n",
    "    Split ratings dataframe into training, validation and test sets.\n",
    "    It has the read_yaml function as a dependency.\n",
    "\n",
    "    Args:\n",
    "        df_ratings : pd.DataFrame with given ratings of users per movie\n",
    "        hold_out   : indicating whether holdout method should be used\n",
    "    Returns\n",
    "        \n",
    "    \"\"\"\n",
    "    \n",
    "    config_ms = config['training']['model_selection']\n",
    "    data = {'original':{}, 'model':{}}\n",
    "    \n",
    "    # predefine train and test sets\n",
    "    test_date = config['training']['test_date']\n",
    "    train_set = df_ratings[ df_ratings['date'] < test_date ]\n",
    "    test_set  = df_ratings[ df_ratings['date'] >= test_date ]\n",
    "    del df_ratings\n",
    "    \n",
    "    if kfold:\n",
    "        # partition train set according to k-fold method\n",
    "        kf = KFold(n_splits=config_ms['kfold']['n_splits'], shuffle=config_ms['kfold']['shuffle'], random_state=config_ms['kfold']['random_state'])\n",
    "        for i, (train_index, valid_index) in enumerate(kf.split(train_set)):\n",
    "\n",
    "            data['original']['kf'+str(i+1)+'_train'] = train_set.iloc[train_index,:]\n",
    "            data['original']['kf'+str(i+1)+'_valid'] = train_set.iloc[valid_index,:]\n",
    "\n",
    "    if rep_kfold:\n",
    "        # partition train set according to repeated k-fold method\n",
    "        rkf = RepeatedKFold(n_splits=config_ms['rep_kfold']['n_splits'], n_repeats=config_ms['rep_kfold']['n_repeats'], random_state=config_ms['rep_kfold']['random_state'])\n",
    "        for i, (train_index, valid_index) in enumerate(rkf.split(train_set)):\n",
    "            i1, i2 = i//config_ms['rep_kfold']['n_splits']+1, i%config_ms['rep_kfold']['n_splits']+1\n",
    "\n",
    "            data['original']['rkf'+str(i1)+str(i2)+'_train'] = train_set.iloc[train_index,:]\n",
    "            data['original']['rkf'+str(i1)+str(i2)+'_valid'] = train_set.iloc[valid_index,:]\n",
    "\n",
    "    # add test set to data variable\n",
    "    data['original']['test_set'] = test_set\n",
    "    # format data for the algorithm\n",
    "    for df_name in data['original'].keys():\n",
    "        data['model'][df_name] = m11_load_data.load_from_df(data['original'][df_name])\n",
    "        if df_name.endswith(\"train\"):\n",
    "            data['model'][df_name] = data['model'][df_name].build_full_trainset()\n",
    "        else:\n",
    "            data['model'][df_name] = [ data['model'][df_name].df.iloc[i].to_list() for i in range(len(data['model'][df_name].df)) ]  \n",
    "        \n",
    "    return data"
   ]
  }
 ],
 "metadata": {
  "kernelspec": {
   "display_name": "anaconda-panel-2023.05-py310",
   "language": "python",
   "name": "conda-env-anaconda-panel-2023.05-py310-py"
  },
  "language_info": {
   "codemirror_mode": {
    "name": "ipython",
    "version": 3
   },
   "file_extension": ".py",
   "mimetype": "text/x-python",
   "name": "python",
   "nbconvert_exporter": "python",
   "pygments_lexer": "ipython3",
   "version": "3.11.5"
  }
 },
 "nbformat": 4,
 "nbformat_minor": 5
}
