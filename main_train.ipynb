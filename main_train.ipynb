{
 "cells": [
  {
   "cell_type": "code",
   "execution_count": 2,
   "id": "366c307a-7058-45d5-8e56-81ede1a5e629",
   "metadata": {
    "editable": true,
    "slideshow": {
     "slide_type": ""
    },
    "tags": []
   },
   "outputs": [],
   "source": [
    "#!pip install -r requirements.txt\n",
    "\n",
    "import m12_transform_data, m22_grid_search\n",
    "import pandas as pd\n",
    "import mlflow"
   ]
  },
  {
   "cell_type": "code",
   "execution_count": 3,
   "id": "37cfd88f-93c8-486a-a3e5-67973b64cef5",
   "metadata": {},
   "outputs": [
    {
     "name": "stdout",
     "output_type": "stream",
     "text": [
      "/opt/conda/envs/anaconda-2024.02-py310\n"
     ]
    }
   ],
   "source": [
    "import sys\n",
    "print(sys.prefix)"
   ]
  },
  {
   "cell_type": "code",
   "execution_count": null,
   "id": "7c49fb60-40a8-4141-8c43-f93910cd8a43",
   "metadata": {},
   "outputs": [],
   "source": [
    "mlflow.set_tracking_uri(\"http://localhost:5000\")\n",
    "mlflow.set_experiment(\"check-localhost-connection\")\n",
    "\n",
    "with mlflow.start_run():\n",
    "    mlflow.log_metric(\"foo\", 1)\n",
    "    mlflow.log_metric(\"bar\", 2)"
   ]
  },
  {
   "cell_type": "code",
   "execution_count": null,
   "id": "54f5a512-edad-4b76-8f04-850ee8eac2a0",
   "metadata": {},
   "outputs": [],
   "source": [
    "# parameters\n",
    "algorithm_name = 'MF_SVD'\n",
    "cv_iterator = 'hold_out'"
   ]
  },
  {
   "cell_type": "code",
   "execution_count": null,
   "id": "d603e329-bd7a-480a-abee-396405c10b87",
   "metadata": {},
   "outputs": [],
   "source": [
    "# get users, movies and ratings sets\n",
    "df_users, df_movies, df_ratings = m12_transform_data.transform_data()"
   ]
  },
  {
   "cell_type": "code",
   "execution_count": null,
   "id": "6f72d7f4-6688-409d-8120-8e04ecc7c861",
   "metadata": {},
   "outputs": [],
   "source": [
    "# grid search\n",
    "run_summary = m22_grid_search.grid_search(\n",
    "    df_ratings = df_ratings\n",
    "    , algorithm_name = algorithm_name\n",
    "    , cv_iterator = cv_iterator\n",
    "    , measures = ['mae', 'rmse', 'mse']\n",
    ")"
   ]
  },
  {
   "cell_type": "code",
   "execution_count": null,
   "id": "575c2ad6-497b-4c40-8a60-06fc01a32694",
   "metadata": {},
   "outputs": [],
   "source": [
    "run_summary"
   ]
  }
 ],
 "metadata": {
  "kernelspec": {
   "display_name": "anaconda-2024.02-py310",
   "language": "python",
   "name": "conda-env-anaconda-2024.02-py310-py"
  },
  "language_info": {
   "codemirror_mode": {
    "name": "ipython",
    "version": 3
   },
   "file_extension": ".py",
   "mimetype": "text/x-python",
   "name": "python",
   "nbconvert_exporter": "python",
   "pygments_lexer": "ipython3",
   "version": "3.10.14"
  }
 },
 "nbformat": 4,
 "nbformat_minor": 5
}
