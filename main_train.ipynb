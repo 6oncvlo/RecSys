{
 "cells": [
  {
   "cell_type": "code",
   "execution_count": null,
   "id": "366c307a-7058-45d5-8e56-81ede1a5e629",
   "metadata": {
    "editable": true,
    "slideshow": {
     "slide_type": ""
    },
    "tags": []
   },
   "outputs": [],
   "source": [
    "#!pip install -r requirements.txt\n",
    "\n",
    "import yaml\n",
    "from src.data.data_loader import load_data\n",
    "from src.data.prepare_data import prepare_data\n",
    "import pandas as pd\n",
    "from src.models.models import grid_search"
   ]
  },
  {
   "cell_type": "code",
   "execution_count": null,
   "id": "2efb6d9d",
   "metadata": {},
   "outputs": [],
   "source": [
    "# read config\n",
    "with open('main/config_train.yml', 'r') as file:\n",
    "    config=yaml.load(file, Loader=yaml.SafeLoader)"
   ]
  },
  {
   "cell_type": "code",
   "execution_count": null,
   "id": "4da95871",
   "metadata": {},
   "outputs": [],
   "source": [
    "# load and prepare data\n",
    "dataframes=load_data(config=config['data_loader'])\n",
    "dataframes=prepare_data(dataframes=dataframes)\n",
    "\n",
    "# filter out test set based on test date\n",
    "dataframes['ratings']=dataframes['ratings'][dataframes['ratings']['date']<config['model']['test_date']]"
   ]
  },
  {
   "cell_type": "code",
   "execution_count": null,
   "id": "d3635c07",
   "metadata": {},
   "outputs": [],
   "source": [
    "gsearch = grid_search(\n",
    "    algo_class=config['model']['algo_class']\n",
    "    , measures=config['cross_validation']['metrics']\n",
    "    , cv=config['cross_validation']['iterator']\n",
    "    , return_train_measures=True\n",
    ")\n",
    "\n",
    "cv_results=gsearch.fit(data=dataframes['ratings'])"
   ]
  },
  {
   "cell_type": "code",
   "execution_count": null,
   "id": "def67d32",
   "metadata": {},
   "outputs": [],
   "source": [
    "cv_results"
   ]
  }
 ],
 "metadata": {
  "kernelspec": {
   "display_name": "Python 3",
   "language": "python",
   "name": "python3"
  },
  "language_info": {
   "codemirror_mode": {
    "name": "ipython",
    "version": 3
   },
   "file_extension": ".py",
   "mimetype": "text/x-python",
   "name": "python",
   "nbconvert_exporter": "python",
   "pygments_lexer": "ipython3",
   "version": "3.10.13"
  }
 },
 "nbformat": 4,
 "nbformat_minor": 5
}
